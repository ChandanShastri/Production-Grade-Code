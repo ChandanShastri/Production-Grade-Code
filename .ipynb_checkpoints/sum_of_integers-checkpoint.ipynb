{
 "cells": [
  {
   "cell_type": "markdown",
   "metadata": {},
   "source": [
    "#### Written by <a href=\"https://chandanshastri.github.io\">Chandan Shastri.</a>\n",
    "\n",
    "#### Example Program for handling User Input Errors.\n",
    "\n",
    "This program reads two integers and prints the sum."
   ]
  },
  {
   "cell_type": "code",
   "execution_count": 21,
   "metadata": {},
   "outputs": [],
   "source": [
    "def add_integers(a,b):\n",
    "    \"\"\" This function takes two integers as parameters and returns the sum.\"\"\"\n",
    "    return a + b"
   ]
  },
  {
   "cell_type": "code",
   "execution_count": 22,
   "metadata": {},
   "outputs": [
    {
     "name": "stdout",
     "output_type": "stream",
     "text": [
      "\n",
      "Enter two integers to get the sum\n",
      "\n",
      "Enter first number : 20\n",
      "Enter second number : 30\n",
      "\n",
      "\n",
      "The Sum is : 50\n"
     ]
    }
   ],
   "source": [
    "def main():\n",
    "    print(\"\\nEnter two integers to get the sum :\\n\")\n",
    "    \n",
    "    # Exception handling using try-except blocks if the user enters anything other than integers.\n",
    "    \n",
    "    try :\n",
    "        first_number = int(input(\"Enter first number : \"))\n",
    "        second_number = int(input(\"Enter second number : \"))\n",
    "        \n",
    "    except :\n",
    "        print(\"\\nPlease Enter Integers..!!\")\n",
    "    \n",
    "    \n",
    "    answer = add_integers( first_number, second_number)\n",
    "    print(\"\\n\\nThe Sum is : \", answer)\n",
    "        \n",
    "# Calling the main function\n",
    "        \n",
    "if __name__ == \"__main__\" :\n",
    "    main()"
   ]
  },
  {
   "cell_type": "code",
   "execution_count": null,
   "metadata": {},
   "outputs": [],
   "source": []
  }
 ],
 "metadata": {
  "kernelspec": {
   "display_name": "Python 3.7.5 64-bit",
   "language": "python",
   "name": "python37564bita61036862bae45bcafb550af5af65e79"
  },
  "language_info": {
   "codemirror_mode": {
    "name": "ipython",
    "version": 3
   },
   "file_extension": ".py",
   "mimetype": "text/x-python",
   "name": "python",
   "nbconvert_exporter": "python",
   "pygments_lexer": "ipython3",
   "version": "3.7.5"
  }
 },
 "nbformat": 4,
 "nbformat_minor": 2
}
